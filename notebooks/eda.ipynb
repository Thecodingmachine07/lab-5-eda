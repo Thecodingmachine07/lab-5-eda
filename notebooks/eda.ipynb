{
 "cells": [
  {
   "cell_type": "markdown",
   "id": "db7fbe8a",
   "metadata": {},
   "source": [
    "# Lab 5 | EDA & Visualisation"
   ]
  },
  {
   "cell_type": "code",
   "execution_count": 23,
   "id": "6eeacb4d",
   "metadata": {},
   "outputs": [
    {
     "data": {
      "text/html": [
       "<div>\n",
       "<style scoped>\n",
       "    .dataframe tbody tr th:only-of-type {\n",
       "        vertical-align: middle;\n",
       "    }\n",
       "\n",
       "    .dataframe tbody tr th {\n",
       "        vertical-align: top;\n",
       "    }\n",
       "\n",
       "    .dataframe thead th {\n",
       "        text-align: right;\n",
       "    }\n",
       "</style>\n",
       "<table border=\"1\" class=\"dataframe\">\n",
       "  <thead>\n",
       "    <tr style=\"text-align: right;\">\n",
       "      <th></th>\n",
       "      <th>student_id</th>\n",
       "      <th>age</th>\n",
       "      <th>gpa</th>\n",
       "      <th>gender</th>\n",
       "      <th>major</th>\n",
       "      <th>year</th>\n",
       "    </tr>\n",
       "  </thead>\n",
       "  <tbody>\n",
       "    <tr>\n",
       "      <th>0</th>\n",
       "      <td>1</td>\n",
       "      <td>14</td>\n",
       "      <td>NaN</td>\n",
       "      <td>F</td>\n",
       "      <td>Economics</td>\n",
       "      <td>freshman</td>\n",
       "    </tr>\n",
       "    <tr>\n",
       "      <th>1</th>\n",
       "      <td>2</td>\n",
       "      <td>17</td>\n",
       "      <td>2.92</td>\n",
       "      <td>M</td>\n",
       "      <td>History</td>\n",
       "      <td>senior</td>\n",
       "    </tr>\n",
       "    <tr>\n",
       "      <th>2</th>\n",
       "      <td>3</td>\n",
       "      <td>17</td>\n",
       "      <td>2.97</td>\n",
       "      <td>F</td>\n",
       "      <td>Physics</td>\n",
       "      <td>senior</td>\n",
       "    </tr>\n",
       "    <tr>\n",
       "      <th>3</th>\n",
       "      <td>4</td>\n",
       "      <td>16</td>\n",
       "      <td>2.76</td>\n",
       "      <td>F</td>\n",
       "      <td>Physics</td>\n",
       "      <td>junior</td>\n",
       "    </tr>\n",
       "    <tr>\n",
       "      <th>4</th>\n",
       "      <td>5</td>\n",
       "      <td>16</td>\n",
       "      <td>2.24</td>\n",
       "      <td>M</td>\n",
       "      <td>Chemistry</td>\n",
       "      <td>junior</td>\n",
       "    </tr>\n",
       "  </tbody>\n",
       "</table>\n",
       "</div>"
      ],
      "text/plain": [
       "   student_id  age   gpa gender      major      year\n",
       "0           1   14   NaN      F  Economics  freshman\n",
       "1           2   17  2.92      M    History    senior\n",
       "2           3   17  2.97      F    Physics    senior\n",
       "3           4   16  2.76      F    Physics    junior\n",
       "4           5   16  2.24      M  Chemistry    junior"
      ]
     },
     "execution_count": 23,
     "metadata": {},
     "output_type": "execute_result"
    }
   ],
   "source": [
    "#Task A\n",
    "import pandas as pd\n",
    "df=pd.read_csv(\"/Users/siddharthnalamalpu/lab-5-eda/data/students.csv\")\n",
    "df.head()"
   ]
  },
  {
   "cell_type": "code",
   "execution_count": 24,
   "id": "fd746c81",
   "metadata": {},
   "outputs": [
    {
     "name": "stdout",
     "output_type": "stream",
     "text": [
      "<class 'pandas.core.frame.DataFrame'>\n",
      "RangeIndex: 100 entries, 0 to 99\n",
      "Data columns (total 6 columns):\n",
      " #   Column      Non-Null Count  Dtype  \n",
      "---  ------      --------------  -----  \n",
      " 0   student_id  100 non-null    int64  \n",
      " 1   age         100 non-null    int64  \n",
      " 2   gpa         90 non-null     float64\n",
      " 3   gender      100 non-null    object \n",
      " 4   major       95 non-null     object \n",
      " 5   year        100 non-null    object \n",
      "dtypes: float64(1), int64(2), object(3)\n",
      "memory usage: 4.8+ KB\n"
     ]
    },
    {
     "data": {
      "text/plain": [
       "student_id     0\n",
       "age            0\n",
       "gpa           10\n",
       "gender         0\n",
       "major          5\n",
       "year           0\n",
       "dtype: int64"
      ]
     },
     "execution_count": 24,
     "metadata": {},
     "output_type": "execute_result"
    }
   ],
   "source": [
    "#Task B\n",
    "df.info()\n",
    "df.isna().sum()\n"
   ]
  },
  {
   "cell_type": "markdown",
   "id": "be4eff2c",
   "metadata": {},
   "source": [
    "The gpa has the most missing values and this could be because of peoples' unwillingness to share GPA (which is considered somewhat sensitive information regarding someone) and that is why there is so much missing data in this category."
   ]
  },
  {
   "cell_type": "code",
   "execution_count": 25,
   "id": "67477c5c",
   "metadata": {},
   "outputs": [
    {
     "name": "stdout",
     "output_type": "stream",
     "text": [
      "    mean  count  median  variance  standard deviation  minimum  maximum\n",
      "0  16.13    100    16.0   1.89202            1.375507       14       18\n"
     ]
    }
   ],
   "source": [
    "#Task C\n",
    "age_series=df['age']\n",
    "gpa_series=df['gpa']\n",
    "\n",
    "age_series.mean()\n",
    "age_series.count()\n",
    "age_series.median()\n",
    "age_series.var()\n",
    "age_series.std()\n",
    "age_series.min()\n",
    "age_series.max()\n",
    "\n",
    "summary={\n",
    "    'mean':age_series.mean(),\n",
    "    'count':age_series.count(),\n",
    "    'median':age_series.median(),\n",
    "    'variance':age_series.var(),\n",
    "    'standard deviation':age_series.std(),\n",
    "    'minimum': age_series.min(),\n",
    "    'maximum': age_series.max()\n",
    "}\n",
    "summarydf=pd.DataFrame([summary])\n",
    "print(summarydf)\n"
   ]
  },
  {
   "cell_type": "code",
   "execution_count": 26,
   "id": "e308fd51",
   "metadata": {},
   "outputs": [
    {
     "data": {
      "text/plain": [
       "<Axes: xlabel='gpa', ylabel='Count'>"
      ]
     },
     "execution_count": 26,
     "metadata": {},
     "output_type": "execute_result"
    },
    {
     "data": {
      "image/png": "[encoded data removed]",
      "text/plain": [
       "<Figure size 640x480 with 1 Axes>"
      ]
     },
     "metadata": {},
     "output_type": "display_data"
    }
   ],
   "source": [
    "#Task D\n",
    "df[\"age\"].hist(bins=range(14, 19), align=\"left\", rwidth=0.8)\n",
    "\n",
    "import seaborn as sns\n",
    "sns.histplot(df[\"gpa\"], kde=True)\n"
   ]
  },
  {
   "cell_type": "markdown",
   "id": "4e4ff21c",
   "metadata": {},
   "source": [
    "The GPA distribution looks roughly normal while as the age increases (for that distribution) the number of people (or count) increases."
   ]
  },
  {
   "cell_type": "code",
   "execution_count": 27,
   "id": "5f816508",
   "metadata": {},
   "outputs": [
    {
     "data": {
      "image/png": "[encoded data removed]",
      "text/plain": [
       "<Figure size 640x480 with 1 Axes>"
      ]
     },
     "metadata": {},
     "output_type": "display_data"
    },
    {
     "data": {
      "text/plain": [
       "np.float64(0.8786075344584666)"
      ]
     },
     "execution_count": 27,
     "metadata": {},
     "output_type": "execute_result"
    }
   ],
   "source": [
    "#Task E\n",
    "import matplotlib.pyplot as plt\n",
    "dfScatter={\n",
    "    'age':age_series,\n",
    "    'gpa':gpa_series\n",
    "}\n",
    "\n",
    "sns.scatterplot(data=dfScatter, x='age',y='gpa')\n",
    "plt.title('Age vs GPA')\n",
    "plt.xlabel('Age')\n",
    "plt.ylabel('GPA')\n",
    "plt.grid(True)\n",
    "plt.show()\n",
    "\n",
    "df[\"age\"].corr(df[\"gpa\"])\n",
    "\n",
    "#Interpret\n",
    "# Overall, (when we take the average of the y-value of the points with the same age) GPA goes up with age in this mini-dataset.\n"
   ]
  },
  {
   "cell_type": "code",
   "execution_count": 28,
   "id": "1d466614",
   "metadata": {},
   "outputs": [],
   "source": [
    "#Task F\n",
    "major_series=df['major']\n",
    "major_series=major_series.str.lower().str.strip()\n",
    "cleaned_major=major_series.replace(r'^\\s*$', pd.NA, regex=True).dropna()\n"
   ]
  },
  {
   "cell_type": "code",
   "execution_count": 29,
   "id": "f1f39c45",
   "metadata": {},
   "outputs": [],
   "source": [
    "#Task G\n",
    "cleaned_major.to_csv('/Users/siddharthnalamalpu/lab-5-eda/data/students_clean.csv',index=False)"
   ]
  },
  {
   "cell_type": "markdown",
   "id": "cfb18d08",
   "metadata": {},
   "source": [
    "Conclusion:\n",
    "There were many findings that occurred through this lab. I learned what a series is, how to use seaborn and converting a dataframe to a series."
   ]
  }
 ],
 "metadata": {
  "kernelspec": {
   "display_name": "lab_5",
   "language": "python",
   "name": "python3"
  },
  "language_info": {
   "codemirror_mode": {
    "name": "ipython",
    "version": 3
   },
   "file_extension": ".py",
   "mimetype": "text/x-python",
   "name": "python",
   "nbconvert_exporter": "python",
   "pygments_lexer": "ipython3",
   "version": "3.13.5"
  }
 },
 "nbformat": 4,
 "nbformat_minor": 5
}
